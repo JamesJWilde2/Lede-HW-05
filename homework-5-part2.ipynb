{
 "cells": [
  {
   "cell_type": "markdown",
   "id": "5b782232-9f0e-42f0-a094-3c0fea323139",
   "metadata": {},
   "source": [
    "## James Wilde\n",
    "\n",
    "#### 6/9/25\n",
    "\n",
    "#### Homework 5, Part 2"
   ]
  },
  {
   "cell_type": "markdown",
   "id": "29cea51f-4472-48d2-8657-4a23dc16f24a",
   "metadata": {},
   "source": [
    " ### 1) Examine both Open Meteo and Tomorrow and decide which one you'd prefer to use. What drove your decision?"
   ]
  },
  {
   "cell_type": "markdown",
   "id": "b13b4e26-a8f1-460a-9a85-cdb877120640",
   "metadata": {},
   "source": [
    "I'm using Open Meteo, because the documentation looks relatively great. The documentation for Tomorrow looks awful."
   ]
  },
  {
   "cell_type": "markdown",
   "id": "e0efcfac-2f2a-4ed8-b430-e084d851efcb",
   "metadata": {},
   "source": [
    " ### 2) What is the URL to the documentation? "
   ]
  },
  {
   "cell_type": "markdown",
   "id": "ef3bfde7-e64f-479b-a817-870a27fcb82f",
   "metadata": {},
   "source": [
    "https://open-meteo.com/en/docs"
   ]
  },
  {
   "cell_type": "markdown",
   "id": "823b01b9-d405-486e-92d7-6e97514bf52f",
   "metadata": {},
   "source": [
    "### 3) Make a request for the current weather where you are born, or somewhere you've lived."
   ]
  },
  {
   "cell_type": "code",
   "execution_count": 1,
   "id": "61594104-e73e-447a-b03a-b94090b8a947",
   "metadata": {},
   "outputs": [],
   "source": [
    "import requests \n",
    "import json \n",
    "import os\n",
    "from dotenv import load_dotenv\n",
    "\n",
    "url = f\"https://api.open-meteo.com/v1/forecast?latitude=40.1001&longitude=-123.795&current=temperature_2m,apparent_temperature,weather_code&wind_speed_unit=mph&temperature_unit=fahrenheit&precipitation_unit=inch\"\n",
    "response = requests.get(url)\n",
    "data = response.json()"
   ]
  },
  {
   "cell_type": "code",
   "execution_count": 2,
   "id": "fd027a8e-a1e6-4498-b685-4a6dd8f1f36c",
   "metadata": {},
   "outputs": [
    {
     "name": "stdout",
     "output_type": "stream",
     "text": [
      "In Garberville it is 73.5 degrees F!\n"
     ]
    }
   ],
   "source": [
    "print(f\"In Garberville it is {data['current']['temperature_2m']} degrees F!\")"
   ]
  },
  {
   "cell_type": "markdown",
   "id": "5cceb61a-d641-4045-99db-5cb047cc1570",
   "metadata": {},
   "source": [
    "### 4) Print out the country this location is in."
   ]
  },
  {
   "cell_type": "markdown",
   "id": "e715e442-a9a8-4c5d-8c25-1acb8699e7fd",
   "metadata": {},
   "source": [
    "This API only includes the latitude and longitude in its output. But we can use Geocoder!"
   ]
  },
  {
   "cell_type": "code",
   "execution_count": 3,
   "id": "67ac0738-0a4c-4a14-ab99-da997defc8b7",
   "metadata": {},
   "outputs": [],
   "source": [
    "import geocoder"
   ]
  },
  {
   "cell_type": "code",
   "execution_count": 4,
   "id": "8ca7c9f6-f9c2-41cf-93b8-845f43c19a36",
   "metadata": {},
   "outputs": [],
   "source": [
    "load_dotenv()\n",
    "\n",
    "api_key = os.getenv(\"api_key\")"
   ]
  },
  {
   "cell_type": "code",
   "execution_count": 5,
   "id": "ba010dee-252b-44a1-9494-58ab1f542827",
   "metadata": {},
   "outputs": [
    {
     "name": "stdout",
     "output_type": "stream",
     "text": [
      "This location's country: United States\n"
     ]
    }
   ],
   "source": [
    "g = geocoder.google([data['latitude'], data['longitude']], method='reverse', key=api_key)\n",
    "country = g.country_long\n",
    "\n",
    "print(f\"This location's country: {country}\")"
   ]
  },
  {
   "cell_type": "markdown",
   "id": "97884c3c-75ab-4b9a-b59c-8d796b79190e",
   "metadata": {},
   "source": [
    "### 5) Print out the difference between the current temperature and how warm it feels."
   ]
  },
  {
   "cell_type": "code",
   "execution_count": 6,
   "id": "8ceb3f89-a26c-4755-b856-0f77d1088788",
   "metadata": {},
   "outputs": [
    {
     "name": "stdout",
     "output_type": "stream",
     "text": [
      "It feels 5.1 degrees warmer than it actually is.\n"
     ]
    }
   ],
   "source": [
    "feels_like_difference = round(data['current']['temperature_2m'] - data['current']['apparent_temperature'], 2)\n",
    "\n",
    "if feels_like_difference > 0:\n",
    "    print(f\"It feels {feels_like_difference} degrees colder than it actually is.\")\n",
    "elif feels_like_difference < 0:\n",
    "    print(f\"It feels {abs(feels_like_difference)} degrees warmer than it actually is.\")\n",
    "else:\n",
    "    print(f\"It feels exactly like the temperature that it is!\")"
   ]
  },
  {
   "cell_type": "markdown",
   "id": "10cd8d8f-7dee-4d72-acc7-bd61fdb70c9b",
   "metadata": {},
   "source": [
    "### 6) What's the current temperature at Heathrow International Airport?"
   ]
  },
  {
   "cell_type": "code",
   "execution_count": 7,
   "id": "f5c931ce-dc81-4cc1-b6ed-a46721a0f299",
   "metadata": {},
   "outputs": [],
   "source": [
    "g = geocoder.google('Heathrow International Airport', key=api_key)\n",
    "\n",
    "lat_lhr = g.lat\n",
    "long_lhr = g.lng"
   ]
  },
  {
   "cell_type": "code",
   "execution_count": 8,
   "id": "c7ec13b7-58ee-49f1-8775-9bd5f4d3122e",
   "metadata": {},
   "outputs": [
    {
     "data": {
      "text/plain": [
       "'The current temperature at Heathrow International Airport is 70.8 degrees Fahrenheit.'"
      ]
     },
     "execution_count": 8,
     "metadata": {},
     "output_type": "execute_result"
    }
   ],
   "source": [
    "url = f\"https://api.open-meteo.com/v1/forecast?latitude={lat_lhr}&longitude={long_lhr}&current=temperature_2m,apparent_temperature,weather_code&wind_speed_unit=mph&temperature_unit=fahrenheit&precipitation_unit=inch\"\n",
    "response = requests.get(url)\n",
    "lhr_data = response.json()\n",
    "\n",
    "f\"The current temperature at Heathrow International Airport is {lhr_data['current']['temperature_2m']} degrees Fahrenheit.\""
   ]
  },
  {
   "cell_type": "markdown",
   "id": "6a449ef4-69cb-4f88-acce-898a9d6c099c",
   "metadata": {},
   "source": [
    "### 7) What URL would I use to request a 3-day forecast at Heathrow?"
   ]
  },
  {
   "cell_type": "code",
   "execution_count": 9,
   "id": "72383dc4-9b4a-46d9-b0e7-7a69b6440413",
   "metadata": {},
   "outputs": [
    {
     "name": "stdout",
     "output_type": "stream",
     "text": [
      "51.4679914 -0.455051\n"
     ]
    }
   ],
   "source": [
    "print(lat_lhr, long_lhr)"
   ]
  },
  {
   "cell_type": "markdown",
   "id": "88e538f0-19a4-4613-ac29-bff7700b5a66",
   "metadata": {},
   "source": [
    "For a 3-day forecast of the maximum temperature each day (in Fahrenheit):\n",
    "\n",
    "https://api.open-meteo.com/v1/forecast?latitude=51.4679914&longitude=-0.455051&daily=temperature_2m_max&forecast_days=3&temperature_unit=fahrenheit"
   ]
  },
  {
   "cell_type": "markdown",
   "id": "a6294931-ede4-41bc-8a5f-d8d09bec8711",
   "metadata": {},
   "source": [
    "(For more variables, you could add a lot more on to this URL.)"
   ]
  },
  {
   "cell_type": "markdown",
   "id": "feb2c801-a0e6-43df-9db3-49fad978d7de",
   "metadata": {},
   "source": [
    "### 8) Print the date of each of the 3 days you're getting a forecast for."
   ]
  },
  {
   "cell_type": "code",
   "execution_count": 10,
   "id": "abc46266-fd91-44a6-a2e6-b505c99ad8a3",
   "metadata": {},
   "outputs": [],
   "source": [
    "url = f\"https://api.open-meteo.com/v1/forecast?latitude=51.4679914&longitude=-0.455051&daily=temperature_2m_max&forecast_days=3&temperature_unit=fahrenheit\"\n",
    "response = requests.get(url)\n",
    "lhr_3day_data = response.json()"
   ]
  },
  {
   "cell_type": "code",
   "execution_count": 11,
   "id": "8fe76bd5-d376-4c7e-b78b-16907fcfc57b",
   "metadata": {},
   "outputs": [
    {
     "name": "stdout",
     "output_type": "stream",
     "text": [
      "2025-06-10\n",
      "2025-06-11\n",
      "2025-06-12\n"
     ]
    }
   ],
   "source": [
    "for date in lhr_3day_data['daily']['time']:\n",
    "    print(date)"
   ]
  },
  {
   "cell_type": "markdown",
   "id": "5fa21ea4-48df-47e1-b618-f95080a222a2",
   "metadata": {},
   "source": [
    "### 9) Print the maximum temperature of each of the days."
   ]
  },
  {
   "cell_type": "markdown",
   "id": "9ecba8b0-de5b-457f-a92f-4f8f483fb787",
   "metadata": {},
   "source": [
    "Hm, the days and temperatures are in separate lists. I want to combine those into a single for loop to print out the date and temperature for each day. From doing some research, it seems like one option is to use the zip() function."
   ]
  },
  {
   "cell_type": "code",
   "execution_count": 12,
   "id": "efc7d1c6-4d82-4acd-9170-89c16dd217f4",
   "metadata": {},
   "outputs": [
    {
     "name": "stdout",
     "output_type": "stream",
     "text": [
      "On 2025-06-10, the maximum temperature is forecast to be 71.5 degrees F.\n",
      "On 2025-06-11, the maximum temperature is forecast to be 73.9 degrees F.\n",
      "On 2025-06-12, the maximum temperature is forecast to be 72.0 degrees F.\n"
     ]
    }
   ],
   "source": [
    "for date, temp in zip(lhr_3day_data['daily']['time'], lhr_3day_data['daily']['temperature_2m_max']):\n",
    "    print(f\"On {date}, the maximum temperature is forecast to be {temp} degrees F.\")"
   ]
  },
  {
   "cell_type": "markdown",
   "id": "c82b0c5a-a7d5-4978-9591-bae75c45d27b",
   "metadata": {},
   "source": [
    "### 10) Print only the day with the highest maximum temperature."
   ]
  },
  {
   "cell_type": "markdown",
   "id": "f038894b-c845-4179-a600-84ce114a6859",
   "metadata": {},
   "source": [
    "To answer this, I took what I learned from question 9 to use zip() to just create a new dictionary with the dates and max temperatures for each date. At first this didn't work, until I learned that I needed to use the dict() function too."
   ]
  },
  {
   "cell_type": "code",
   "execution_count": 13,
   "id": "12e8cbd8-be22-4686-88e5-9e7c14423900",
   "metadata": {},
   "outputs": [
    {
     "name": "stdout",
     "output_type": "stream",
     "text": [
      "{'2025-06-10': 71.5, '2025-06-11': 73.9, '2025-06-12': 72.0}\n"
     ]
    }
   ],
   "source": [
    "times = lhr_3day_data['daily']['time']\n",
    "temps = lhr_3day_data['daily']['temperature_2m_max']\n",
    "\n",
    "paired_temps = dict(zip(times, temps))\n",
    "\n",
    "print(paired_temps)"
   ]
  },
  {
   "cell_type": "code",
   "execution_count": 14,
   "id": "a3fe525f-0ae7-4487-9f14-80b953e9977c",
   "metadata": {},
   "outputs": [
    {
     "name": "stdout",
     "output_type": "stream",
     "text": [
      "The hottest day is forecasted to be 2025-06-11 at 73.9 degrees F.\n"
     ]
    }
   ],
   "source": [
    "hottest_day = max(paired_temps, key=paired_temps.get)\n",
    "print(f\"The hottest day is forecasted to be {hottest_day} at {paired_temps[hottest_day]} degrees F.\")\n"
   ]
  },
  {
   "cell_type": "markdown",
   "id": "8374bf74-fba2-4cee-a166-1e5126ef6ebb",
   "metadata": {},
   "source": [
    "### 11) Did you find this easier or more difficult than using the weatherapi.com, and why? Which would you recommend to someone interesting in building a tool around weather information?"
   ]
  },
  {
   "cell_type": "markdown",
   "id": "348a3421-af79-4421-9b0c-8440a9514c3f",
   "metadata": {},
   "source": [
    "In general they were actually pretty similar, but I found the weatherapi.com easier simply because it included more location data. Open Meteo seemed to only include latitude and longitude, which made it necessary to use Geocoder to pull in the country, city, etc. More steps = more annoying."
   ]
  }
 ],
 "metadata": {
  "kernelspec": {
   "display_name": "Python 3 (ipykernel)",
   "language": "python",
   "name": "python3"
  },
  "language_info": {
   "codemirror_mode": {
    "name": "ipython",
    "version": 3
   },
   "file_extension": ".py",
   "mimetype": "text/x-python",
   "name": "python",
   "nbconvert_exporter": "python",
   "pygments_lexer": "ipython3",
   "version": "3.12.10"
  }
 },
 "nbformat": 4,
 "nbformat_minor": 5
}
